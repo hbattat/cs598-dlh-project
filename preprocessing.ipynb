{
 "cells": [
  {
   "cell_type": "code",
   "execution_count": 4,
   "id": "33efef74",
   "metadata": {},
   "outputs": [
    {
     "name": "stdout",
     "output_type": "stream",
     "text": [
      "Requirement already satisfied: sh in /Users/hbattat/miniconda/lib/python3.10/site-packages (2.0.3)\r\n"
     ]
    }
   ],
   "source": [
    "!pip3 install sh"
   ]
  },
  {
   "cell_type": "code",
   "execution_count": 5,
   "id": "d940c7c0",
   "metadata": {},
   "outputs": [],
   "source": [
    "import os\n",
    "from sh import gunzip"
   ]
  },
  {
   "cell_type": "markdown",
   "id": "7f6ed9d5",
   "metadata": {},
   "source": [
    "## Data Preperation\n",
    "To prepare the data for StageNet, we need to download the data an process it using MIMIC-III Benchmark to procduce the decompensation data.\n",
    "\n",
    "### Download\n",
    "To obtain the full MIMIC-III dataset, download the files from physionet.org using your credentialed account. First set an environment variable for the username and password."
   ]
  },
  {
   "cell_type": "code",
   "execution_count": 1,
   "id": "ba9dd93c",
   "metadata": {},
   "outputs": [
    {
     "name": "stdout",
     "output_type": "stream",
     "text": [
      "zsh:1: no such file or directory: username\r\n"
     ]
    }
   ],
   "source": [
    "!wget -r -N -c -np --user <username> --password <password> https://physionet.org/files/mimiciii/1.4/"
   ]
  },
  {
   "cell_type": "markdown",
   "id": "46a43d5a",
   "metadata": {},
   "source": [
    "### Extract Files\n",
    "Once the file as are obtained, extact all the files."
   ]
  },
  {
   "cell_type": "code",
   "execution_count": 6,
   "id": "73d1654d",
   "metadata": {},
   "outputs": [
    {
     "ename": "FileNotFoundError",
     "evalue": "[Errno 2] No such file or directory: './physionet.org/files/mimiciii/1.4/'",
     "output_type": "error",
     "traceback": [
      "\u001b[0;31m---------------------------------------------------------------------------\u001b[0m",
      "\u001b[0;31mFileNotFoundError\u001b[0m                         Traceback (most recent call last)",
      "Cell \u001b[0;32mIn[6], line 2\u001b[0m\n\u001b[1;32m      1\u001b[0m MIMIC3_DIR \u001b[38;5;241m=\u001b[39m \u001b[38;5;124m'\u001b[39m\u001b[38;5;124m./physionet.org/files/mimiciii/1.4/\u001b[39m\u001b[38;5;124m'\u001b[39m\n\u001b[0;32m----> 2\u001b[0m \u001b[38;5;28;01mfor\u001b[39;00m filename \u001b[38;5;129;01min\u001b[39;00m \u001b[43mos\u001b[49m\u001b[38;5;241;43m.\u001b[39;49m\u001b[43mlistdir\u001b[49m\u001b[43m(\u001b[49m\u001b[43mMIMIC3_DIR\u001b[49m\u001b[43m)\u001b[49m:\n\u001b[1;32m      3\u001b[0m     f \u001b[38;5;241m=\u001b[39m os\u001b[38;5;241m.\u001b[39mpath\u001b[38;5;241m.\u001b[39mjoin(MIMIC3_DIR, filename)\n\u001b[1;32m      4\u001b[0m     \u001b[38;5;28;01mif\u001b[39;00m os\u001b[38;5;241m.\u001b[39mpath\u001b[38;5;241m.\u001b[39misfile(f):\n",
      "\u001b[0;31mFileNotFoundError\u001b[0m: [Errno 2] No such file or directory: './physionet.org/files/mimiciii/1.4/'"
     ]
    }
   ],
   "source": [
    "MIMIC3_DIR = './physionet.org/files/mimiciii/1.4/'\n",
    "for filename in os.listdir(MIMIC3_DIR):\n",
    "    f = os.path.join(MIMIC3_DIR, filename)\n",
    "    if os.path.isfile(f):\n",
    "        gunzip(f)"
   ]
  },
  {
   "cell_type": "markdown",
   "id": "1abe42a4",
   "metadata": {},
   "source": [
    "## Data Processing"
   ]
  },
  {
   "cell_type": "markdown",
   "id": "0df1b34a",
   "metadata": {},
   "source": [
    "### Clone the repo\n",
    "Copy the original benchmark code to run the steps on the extracted CSV files"
   ]
  },
  {
   "cell_type": "code",
   "execution_count": null,
   "id": "d993ac2e",
   "metadata": {},
   "outputs": [],
   "source": [
    "!git clone https://github.com/YerevaNN/mimic3-benchmarks.git\n",
    "%cd mimic3-benchmarks"
   ]
  },
  {
   "cell_type": "markdown",
   "id": "ec7999ce",
   "metadata": {},
   "source": [
    "### Install dependencies\n",
    "The code uses python 3.7. The following steps run using python3.7, assuming it is installed properly and the executable is present the user bin directory."
   ]
  },
  {
   "cell_type": "code",
   "execution_count": null,
   "id": "77bab65a",
   "metadata": {},
   "outputs": [],
   "source": [
    "!pip3.7 install -r requirements.txt"
   ]
  },
  {
   "cell_type": "markdown",
   "id": "98ec0a18",
   "metadata": {},
   "source": [
    "### Step 1: Generate subject directories\n",
    "This step generates one directory per SUBJECT_ID and writes ICU stay information to data/{SUBJECT_ID}/stays.csv, diagnoses to data/{SUBJECT_ID}/diagnoses.csv, and events to data/{SUBJECT_ID}/events.csv."
   ]
  },
  {
   "cell_type": "code",
   "execution_count": null,
   "id": "85e907dc",
   "metadata": {},
   "outputs": [],
   "source": [
    "!python3.7 -m mimic3benchmark.scripts.extract_subjects ../physionet.org/files/mimiciii/1.4/ data/root/"
   ]
  },
  {
   "cell_type": "markdown",
   "id": "787f8480",
   "metadata": {},
   "source": [
    "### Step 2: Data cleaning\n",
    "This step attempts to fix some issues with each subject ID data. Some of the fixes:\n",
    "- Remove all events for which HADM_ID is missing.\n",
    "- Remove all events for which HADM_ID is not present in stays.csv.\n",
    "- If ICUSTAY_ID is missing in an event and HADM_ID is not missing, then we look at stays.csv and try to recover ICUSTAY_ID.\n",
    "- Remove all events for which we cannot recover ICUSTAY_ID.\n",
    "- Remove all events for which ICUSTAY_ID is not present in stays.csv."
   ]
  },
  {
   "cell_type": "code",
   "execution_count": null,
   "id": "9329ebca",
   "metadata": {},
   "outputs": [],
   "source": [
    "!python3.7 -m mimic3benchmark.scripts.validate_events data/root/"
   ]
  },
  {
   "cell_type": "markdown",
   "id": "1c9dccd9",
   "metadata": {},
   "source": [
    "### Step 3: Generate episodes time series\n",
    "This step breaks up each subject ICU stays into individual time seriese. Time series of events are stored in {SUBJECT_ID}/episode{#}_timeseries.csv (where # counts distinct episodes) while episode-level information (patient age, gender, ethnicity, height, weight) and outcomes (mortality, length of stay, diagnoses) are stores in {SUBJECT_ID}/episode{#}.csv"
   ]
  },
  {
   "cell_type": "code",
   "execution_count": null,
   "id": "8c0114ca",
   "metadata": {},
   "outputs": [],
   "source": [
    "!python3.7 -m mimic3benchmark.scripts.extract_episodes_from_subjects data/root/"
   ]
  },
  {
   "cell_type": "markdown",
   "id": "422664a3",
   "metadata": {},
   "source": [
    "### Step 4: Split traning/testing data\n",
    "This step splits the whole dataset into training and testing datasets."
   ]
  },
  {
   "cell_type": "code",
   "execution_count": null,
   "id": "a4334db2",
   "metadata": {},
   "outputs": [],
   "source": [
    " !python3.7 -m mimic3benchmark.scripts.split_train_and_test data/root/"
   ]
  },
  {
   "cell_type": "markdown",
   "id": "54bc6494",
   "metadata": {},
   "source": [
    "### Step 5: Generate decompensation data\n",
    "This step generates the decompensation data needed for StageNet"
   ]
  },
  {
   "cell_type": "code",
   "execution_count": null,
   "id": "3ee2d2a3",
   "metadata": {},
   "outputs": [],
   "source": [
    "!python3.7 -m mimic3benchmark.scripts.create_in_hospital_mortality data/root/ data/in-hospital-mortality/\n",
    "!python3.7 -m mimic3benchmark.scripts.create_decompensation data/root/ data/decompensation/"
   ]
  }
 ],
 "metadata": {
  "kernelspec": {
   "display_name": "Python 3 (ipykernel)",
   "language": "python",
   "name": "python3"
  },
  "language_info": {
   "codemirror_mode": {
    "name": "ipython",
    "version": 3
   },
   "file_extension": ".py",
   "mimetype": "text/x-python",
   "name": "python",
   "nbconvert_exporter": "python",
   "pygments_lexer": "ipython3",
   "version": "3.10.9"
  }
 },
 "nbformat": 4,
 "nbformat_minor": 5
}
