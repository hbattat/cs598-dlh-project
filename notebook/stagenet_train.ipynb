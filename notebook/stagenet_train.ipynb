{
 "cells": [
  {
   "cell_type": "markdown",
   "metadata": {},
   "source": [
    "## Environment Prep"
   ]
  },
  {
   "cell_type": "markdown",
   "metadata": {
    "id": "mNVIqTht6Gx8"
   },
   "source": [
    "Preparing the environment to run the StageNet code."
   ]
  },
  {
   "cell_type": "markdown",
   "metadata": {},
   "source": [
    "### Install dependencies"
   ]
  },
  {
   "cell_type": "code",
   "execution_count": null,
   "metadata": {
    "id": "zDkJA2aH2EV-"
   },
   "outputs": [],
   "source": [
    "!pip3 install numpy matplotlib torch scipy scikit-learn"
   ]
  },
  {
   "cell_type": "code",
   "execution_count": 1,
   "metadata": {},
   "outputs": [],
   "source": [
    "import urllib.request\n",
    "import zipfile\n",
    "import tarfile\n",
    "import shutil"
   ]
  },
  {
   "cell_type": "markdown",
   "metadata": {},
   "source": [
    "### Copy StageNet code"
   ]
  },
  {
   "cell_type": "markdown",
   "metadata": {
    "id": "-uLn2srFucnh"
   },
   "source": [
    "Download the code from the repo. In this case we host the zip file of the full repo in a private file sharing solution to be able to access it without any authentication."
   ]
  },
  {
   "cell_type": "code",
   "execution_count": 2,
   "metadata": {
    "id": "tTCpx4axioU0"
   },
   "outputs": [
    {
     "data": {
      "text/plain": [
       "('./repo.zip', <http.client.HTTPMessage at 0x7fe3c9f63b50>)"
      ]
     },
     "execution_count": 2,
     "metadata": {},
     "output_type": "execute_result"
    }
   ],
   "source": [
    "urllib.request.urlretrieve('https://files.home.battat.us/api/public/dl/a083vHXq', './repo.zip')"
   ]
  },
  {
   "cell_type": "markdown",
   "metadata": {
    "id": "uqmCuifyuOHP"
   },
   "source": [
    "Now, we will unzip the repo to access the code and files."
   ]
  },
  {
   "cell_type": "code",
   "execution_count": null,
   "metadata": {
    "id": "u_shtxUygWz-"
   },
   "outputs": [],
   "source": [
    "with zipfile.ZipFile('./repo.zip', 'r') as zip_ref:\n",
    "    zip_ref.extractall('./repo')"
   ]
  },
  {
   "cell_type": "markdown",
   "metadata": {},
   "source": [
    "### Download decompensation data"
   ]
  },
  {
   "cell_type": "markdown",
   "metadata": {
    "id": "0-1128UAvc4j"
   },
   "source": [
    "We also need the decompensation data from the preprocessing step. We download the result files and extract them into the data direcotory of StageNet"
   ]
  },
  {
   "cell_type": "code",
   "execution_count": null,
   "metadata": {
    "id": "K8Pfmzu6hZtz"
   },
   "outputs": [],
   "source": [
    "urllib.request.urlretrieve('https://files.home.battat.us/api/public/dl/I0mJUD39', './decompensation.tar.gz')"
   ]
  },
  {
   "cell_type": "code",
   "execution_count": null,
   "metadata": {
    "id": "qWrOTGOgj8E1"
   },
   "outputs": [],
   "source": [
    "with tarfile.open('./decompensation.tar.gz') as tar_ref:\n",
    "    tar_ref.extractall('./repo/cs598-dlh-project-main/StageNet/data/')"
   ]
  },
  {
   "cell_type": "markdown",
   "metadata": {},
   "source": [
    "Copy the decompensation train and test list files to the main data directory."
   ]
  },
  {
   "cell_type": "code",
   "execution_count": null,
   "metadata": {},
   "outputs": [],
   "source": [
    "shutil.copyfile('./repo/cs598-dlh-project-main/StageNet/data/train/listfile.csv', './repo/cs598-dlh-project-main/StageNet/data/train_listfile.csv')\n",
    "shutil.copyfile('./repo/cs598-dlh-project-main/StageNet/data/test/listfile.csv', './repo/cs598-dlh-project-main/StageNet/data/test_listfile.csv')"
   ]
  },
  {
   "cell_type": "markdown",
   "metadata": {},
   "source": [
    "## Train the model"
   ]
  },
  {
   "cell_type": "code",
   "execution_count": null,
   "metadata": {
    "id": "jVy_AS9Q1tA4"
   },
   "outputs": [],
   "source": [
    "%cd ./repo/cs598-dlh-project-main/StageNet/"
   ]
  },
  {
   "cell_type": "markdown",
   "metadata": {},
   "source": [
    "### With paper parameters/specs"
   ]
  },
  {
   "cell_type": "code",
   "execution_count": null,
   "metadata": {
    "id": "h3RipfKOgQKO"
   },
   "outputs": [],
   "source": [
    "!python3 train.py --batch_size 3600  --test_mode=0 --data_path='./data/' --file_name='test_model'"
   ]
  },
  {
   "cell_type": "markdown",
   "metadata": {},
   "source": [
    "### Ablation test"
   ]
  },
  {
   "cell_type": "code",
   "execution_count": null,
   "metadata": {},
   "outputs": [],
   "source": [
    "!python3 train.py --batch_size 3600 --ablation=1 --test_mode=0 --data_path='./data/' --file_name='test_model'"
   ]
  }
 ],
 "metadata": {
  "colab": {
   "gpuType": "A100",
   "provenance": []
  },
  "gpuClass": "premium",
  "kernelspec": {
   "display_name": "Python 3 (ipykernel)",
   "language": "python",
   "name": "python3"
  },
  "language_info": {
   "codemirror_mode": {
    "name": "ipython",
    "version": 3
   },
   "file_extension": ".py",
   "mimetype": "text/x-python",
   "name": "python",
   "nbconvert_exporter": "python",
   "pygments_lexer": "ipython3",
   "version": "3.10.9"
  }
 },
 "nbformat": 4,
 "nbformat_minor": 1
}
